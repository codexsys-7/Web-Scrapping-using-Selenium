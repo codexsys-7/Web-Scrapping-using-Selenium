{
 "cells": [
  {
   "cell_type": "markdown",
   "metadata": {},
   "source": [
    "!pip install selenium"
   ]
  },
  {
   "cell_type": "code",
   "execution_count": 1,
   "metadata": {},
   "outputs": [],
   "source": [
    "from selenium import webdriver"
   ]
  },
  {
   "cell_type": "code",
   "execution_count": 2,
   "metadata": {
    "scrolled": true
   },
   "outputs": [
    {
     "name": "stderr",
     "output_type": "stream",
     "text": [
      "<ipython-input-2-b6fd0544aa6a>:10: DeprecationWarning: executable_path has been deprecated, please pass in a Service object\n",
      "  driver=webdriver.Chrome(\"C:\\\\Users\\\\AB\\\\Downloads\\\\chromedriver_win32\\\\chromedriver.exe\", options=chrome_options)\n"
     ]
    },
    {
     "ename": "TypeError",
     "evalue": "find_element_by_xpath() missing 1 required positional argument: 'xpath'",
     "output_type": "error",
     "traceback": [
      "\u001b[1;31m---------------------------------------------------------------------------\u001b[0m",
      "\u001b[1;31mTypeError\u001b[0m                                 Traceback (most recent call last)",
      "\u001b[1;32m<ipython-input-2-b6fd0544aa6a>\u001b[0m in \u001b[0;36m<module>\u001b[1;34m\u001b[0m\n\u001b[0;32m     17\u001b[0m \u001b[1;33m\u001b[0m\u001b[0m\n\u001b[0;32m     18\u001b[0m \u001b[1;31m# Get the name of the comic book using its Xpath\u001b[0m\u001b[1;33m\u001b[0m\u001b[1;33m\u001b[0m\u001b[1;33m\u001b[0m\u001b[0m\n\u001b[1;32m---> 19\u001b[1;33m \u001b[0mname\u001b[0m \u001b[1;33m=\u001b[0m \u001b[0mdriver\u001b[0m\u001b[1;33m.\u001b[0m\u001b[0mfind_element_by_xpath\u001b[0m\u001b[1;33m(\u001b[0m\u001b[1;33m)\u001b[0m\u001b[1;33m.\u001b[0m\u001b[0mtext\u001b[0m\u001b[1;33m\u001b[0m\u001b[1;33m\u001b[0m\u001b[0m\n\u001b[0m\u001b[0;32m     20\u001b[0m \u001b[0mprint\u001b[0m\u001b[1;33m(\u001b[0m\u001b[1;34m\"The name of the Comic Book is:\"\u001b[0m\u001b[1;33m,\u001b[0m \u001b[0mname\u001b[0m\u001b[1;33m)\u001b[0m\u001b[1;33m\u001b[0m\u001b[1;33m\u001b[0m\u001b[0m\n\u001b[0;32m     21\u001b[0m \u001b[1;33m\u001b[0m\u001b[0m\n",
      "\u001b[1;31mTypeError\u001b[0m: find_element_by_xpath() missing 1 required positional argument: 'xpath'"
     ]
    }
   ],
   "source": [
    "# Set properties of the browser\n",
    "chrome_options=webdriver.ChromeOptions()\n",
    "chrome_options.binary_location = 'C:\\\\Program Files\\\\BraveSoftware\\\\Brave-Browser\\\\Application\\\\brave.exe'\n",
    "chrome_options.add_argument(\"--headless\")\n",
    "chrome_options.add_argument(\"--disable-extensions\")\n",
    "chrome_options.add_argument(\"--disable-gpu\")\n",
    "chrome_options.add_argument(\"--no-sandbox\")\n",
    "\n",
    "# Initialize the browser object\n",
    "driver=webdriver.Chrome(\"C:\\\\Users\\\\AB\\\\Downloads\\\\chromedriver_win32\\\\chromedriver.exe\", options=chrome_options)\n",
    "\n",
    "# The initial url to be opened\n",
    "url = 'https://www.flipkart.com/search?q=comics&otracker=search&otracker1=search&marketplace=FLIPKART&as-show=on&as=off'\n",
    "# Open the given url in the browser\n",
    "# oening the url using the browser instance\n",
    "driver.get(url)\n",
    "\n",
    "# Get the name of the comic book using its Xpath\n",
    "name = driver.find_element_by_xpath().text\n",
    "print(\"The name of the Comic Book is:\", name)\n",
    "\n",
    "# Close the browser\n",
    "driver.close()"
   ]
  },
  {
   "cell_type": "code",
   "execution_count": null,
   "metadata": {},
   "outputs": [],
   "source": []
  },
  {
   "cell_type": "code",
   "execution_count": null,
   "metadata": {},
   "outputs": [],
   "source": []
  },
  {
   "cell_type": "code",
   "execution_count": null,
   "metadata": {},
   "outputs": [],
   "source": []
  },
  {
   "cell_type": "code",
   "execution_count": null,
   "metadata": {},
   "outputs": [],
   "source": []
  },
  {
   "cell_type": "code",
   "execution_count": null,
   "metadata": {},
   "outputs": [],
   "source": []
  },
  {
   "cell_type": "code",
   "execution_count": null,
   "metadata": {},
   "outputs": [],
   "source": []
  },
  {
   "cell_type": "code",
   "execution_count": 3,
   "metadata": {},
   "outputs": [
    {
     "name": "stderr",
     "output_type": "stream",
     "text": [
      "<ipython-input-3-ff5d80032cdf>:6: DeprecationWarning: executable_path has been deprecated, please pass in a Service object\n",
      "  drvr = webdriver.Chrome(options = options, executable_path = driver_path)\n",
      "<ipython-input-3-ff5d80032cdf>:8: DeprecationWarning: find_element_by_* commands are deprecated. Please use find_element() instead\n",
      "  name = drvr.find_element_by_xpath('//*[@id=\"productTitle\"]').text\n"
     ]
    },
    {
     "name": "stdout",
     "output_type": "stream",
     "text": [
      "The name of the Comic Book is: Comic Book Collection Gift Pack | Lot of 25 Unique Marvel & DC Comic Books Only | Good Condition or Better | Perfect Marvel Comics Gift for Men | Marvel & DC Comics Collection\n"
     ]
    }
   ],
   "source": [
    "from selenium.webdriver.chrome.options import Options\n",
    "\n",
    "options = Options()\n",
    "options.binary_location = 'C:\\\\Program Files\\\\BraveSoftware\\\\Brave-Browser\\\\Application\\\\brave.exe'\n",
    "driver_path = 'C:\\\\Users\\\\AB\\\\Downloads\\\\chromedriver_win32\\\\chromedriver.exe'\n",
    "drvr = webdriver.Chrome(options = options, executable_path = driver_path)\n",
    "drvr.get(\"https://www.amazon.com/Collection-Unique-Marvel-Condition-Perfect/dp/B08NFBGLWQ/ref=sr_1_2?dchild=1&keywords=comics&qid=1635847446&qsid=134-0484737-6244646&sr=8-2&sres=B002095J4G%2CB08NFBGLWQ%2C1302931318%2CB086M9Q7TV%2C0393635600%2CB08VQ4YZGY%2CB0799BL7DZ%2C0744042828%2C1607064111%2C0060780940%2CB017SGW4PW%2C1846539870%2C0671530771%2C1401242855%2C1401241883%2C1401285384%2C1401283594%2C1524108596%2CB004UBB1HQ%2C1779510241\")\n",
    "name = drvr.find_element_by_xpath('//*[@id=\"productTitle\"]').text\n",
    "print(\"The name of the Comic Book is:\", name)\n",
    "drvr.close()"
   ]
  },
  {
   "cell_type": "code",
   "execution_count": null,
   "metadata": {},
   "outputs": [],
   "source": []
  },
  {
   "cell_type": "code",
   "execution_count": null,
   "metadata": {},
   "outputs": [],
   "source": []
  },
  {
   "cell_type": "code",
   "execution_count": null,
   "metadata": {},
   "outputs": [],
   "source": []
  },
  {
   "cell_type": "code",
   "execution_count": 4,
   "metadata": {},
   "outputs": [
    {
     "name": "stderr",
     "output_type": "stream",
     "text": [
      "<ipython-input-4-7b4b10d0bf7d>:4: DeprecationWarning: executable_path has been deprecated, please pass in a Service object\n",
      "  drvr = webdriver.Chrome(options = brave_options, executable_path = driver_path)\n",
      "<ipython-input-4-7b4b10d0bf7d>:6: DeprecationWarning: find_element_by_* commands are deprecated. Please use find_element() instead\n",
      "  name = drvr.find_element_by_xpath('//*[@id=\"productTitle\"]').text\n"
     ]
    },
    {
     "name": "stdout",
     "output_type": "stream",
     "text": [
      "The name of the Comic Book is: Comic Book Collection Gift Pack | Lot of 25 Unique Marvel & DC Comic Books Only | Good Condition or Better | Perfect Marvel Comics Gift for Men | Marvel & DC Comics Collection\n"
     ]
    }
   ],
   "source": [
    "brave_options = webdriver.ChromeOptions()\n",
    "brave_options.binary_location = 'C:\\\\Program Files\\\\BraveSoftware\\\\Brave-Browser\\\\Application\\\\brave.exe'\n",
    "driver_path = 'C:\\\\Users\\\\AB\\\\Downloads\\\\chromedriver_win32\\\\chromedriver.exe'\n",
    "drvr = webdriver.Chrome(options = brave_options, executable_path = driver_path)\n",
    "drvr.get(\"https://www.amazon.com/Collection-Unique-Marvel-Condition-Perfect/dp/B08NFBGLWQ/ref=sr_1_2?dchild=1&keywords=comics&qid=1635847446&qsid=134-0484737-6244646&sr=8-2&sres=B002095J4G%2CB08NFBGLWQ%2C1302931318%2CB086M9Q7TV%2C0393635600%2CB08VQ4YZGY%2CB0799BL7DZ%2C0744042828%2C1607064111%2C0060780940%2CB017SGW4PW%2C1846539870%2C0671530771%2C1401242855%2C1401241883%2C1401285384%2C1401283594%2C1524108596%2CB004UBB1HQ%2C1779510241\")\n",
    "name = drvr.find_element_by_xpath('//*[@id=\"productTitle\"]').text\n",
    "print(\"The name of the Comic Book is:\", name)\n",
    "drvr.close()"
   ]
  },
  {
   "cell_type": "code",
   "execution_count": null,
   "metadata": {},
   "outputs": [],
   "source": []
  },
  {
   "cell_type": "code",
   "execution_count": null,
   "metadata": {},
   "outputs": [],
   "source": []
  },
  {
   "cell_type": "code",
   "execution_count": null,
   "metadata": {},
   "outputs": [],
   "source": []
  },
  {
   "cell_type": "code",
   "execution_count": 9,
   "metadata": {},
   "outputs": [
    {
     "name": "stderr",
     "output_type": "stream",
     "text": [
      "<ipython-input-9-021a018498e3>:4: DeprecationWarning: executable_path has been deprecated, please pass in a Service object\n",
      "  drvr = webdriver.Chrome(options = brave_options, executable_path = driver_path)\n",
      "<ipython-input-9-021a018498e3>:6: DeprecationWarning: find_element_by_* commands are deprecated. Please use find_element() instead\n",
      "  name = drvr.find_element_by_xpath('/html/body/form/div/input[1]').text\n"
     ]
    },
    {
     "ename": "NoSuchElementException",
     "evalue": "Message: no such element: Unable to locate element: {\"method\":\"xpath\",\"selector\":\"/html/body/form/div/input[1]\"}\n  (Session info: chrome=95.0.4638.69)\nStacktrace:\nBacktrace:\n\tOrdinal0 [0x00BC06F3+2492147]\n\tOrdinal0 [0x00B59BD1+2071505]\n\tOrdinal0 [0x00A62478+1057912]\n\tOrdinal0 [0x00A8C964+1231204]\n\tOrdinal0 [0x00AB6B62+1403746]\n\tOrdinal0 [0x00AA57FA+1333242]\n\tOrdinal0 [0x00AB4F38+1396536]\n\tOrdinal0 [0x00AA568B+1332875]\n\tOrdinal0 [0x00A821D4+1188308]\n\tOrdinal0 [0x00A8302F+1191983]\n\tGetHandleVerifier [0x00D467A6+1545030]\n\tGetHandleVerifier [0x00DF105C+2243580]\n\tGetHandleVerifier [0x00C4BC97+518199]\n\tGetHandleVerifier [0x00C4AD80+514336]\n\tOrdinal0 [0x00B5ED2D+2092333]\n\tOrdinal0 [0x00B62EE8+2109160]\n\tOrdinal0 [0x00B63022+2109474]\n\tOrdinal0 [0x00B6CB71+2149233]\n\tBaseThreadInitThunk [0x755CFA29+25]\n\tRtlGetAppContainerNamedObjectPath [0x77677A9E+286]\n\tRtlGetAppContainerNamedObjectPath [0x77677A6E+238]\n",
     "output_type": "error",
     "traceback": [
      "\u001b[1;31m---------------------------------------------------------------------------\u001b[0m",
      "\u001b[1;31mNoSuchElementException\u001b[0m                    Traceback (most recent call last)",
      "\u001b[1;32m<ipython-input-9-021a018498e3>\u001b[0m in \u001b[0;36m<module>\u001b[1;34m\u001b[0m\n\u001b[0;32m      4\u001b[0m \u001b[0mdrvr\u001b[0m \u001b[1;33m=\u001b[0m \u001b[0mwebdriver\u001b[0m\u001b[1;33m.\u001b[0m\u001b[0mChrome\u001b[0m\u001b[1;33m(\u001b[0m\u001b[0moptions\u001b[0m \u001b[1;33m=\u001b[0m \u001b[0mbrave_options\u001b[0m\u001b[1;33m,\u001b[0m \u001b[0mexecutable_path\u001b[0m \u001b[1;33m=\u001b[0m \u001b[0mdriver_path\u001b[0m\u001b[1;33m)\u001b[0m\u001b[1;33m\u001b[0m\u001b[1;33m\u001b[0m\u001b[0m\n\u001b[0;32m      5\u001b[0m \u001b[0mdrvr\u001b[0m\u001b[1;33m.\u001b[0m\u001b[0mget\u001b[0m\u001b[1;33m(\u001b[0m\u001b[1;34m\"https://www.javatpoint.com/oprweb/test.jsp?filename=html-login-form\"\u001b[0m\u001b[1;33m)\u001b[0m\u001b[1;33m\u001b[0m\u001b[1;33m\u001b[0m\u001b[0m\n\u001b[1;32m----> 6\u001b[1;33m \u001b[0mname\u001b[0m \u001b[1;33m=\u001b[0m \u001b[0mdrvr\u001b[0m\u001b[1;33m.\u001b[0m\u001b[0mfind_element_by_xpath\u001b[0m\u001b[1;33m(\u001b[0m\u001b[1;34m'/html/body/form/div/input[1]'\u001b[0m\u001b[1;33m)\u001b[0m\u001b[1;33m.\u001b[0m\u001b[0mtext\u001b[0m\u001b[1;33m\u001b[0m\u001b[1;33m\u001b[0m\u001b[0m\n\u001b[0m\u001b[0;32m      7\u001b[0m \u001b[0mpasss\u001b[0m \u001b[1;33m=\u001b[0m \u001b[0mdrvr\u001b[0m\u001b[1;33m.\u001b[0m\u001b[0mfind_element_by_xpath\u001b[0m\u001b[1;33m(\u001b[0m\u001b[1;34m'/html/body/form/div/input[2]'\u001b[0m\u001b[1;33m)\u001b[0m\u001b[1;33m.\u001b[0m\u001b[0mtext\u001b[0m\u001b[1;33m\u001b[0m\u001b[1;33m\u001b[0m\u001b[0m\n\u001b[0;32m      8\u001b[0m \u001b[0mprint\u001b[0m\u001b[1;33m(\u001b[0m\u001b[1;34m\"The username is:\"\u001b[0m\u001b[1;33m,\u001b[0m \u001b[0mname\u001b[0m\u001b[1;33m)\u001b[0m\u001b[1;33m\u001b[0m\u001b[1;33m\u001b[0m\u001b[0m\n",
      "\u001b[1;32mc:\\users\\ab\\appdata\\local\\programs\\python\\python38\\lib\\site-packages\\selenium\\webdriver\\remote\\webdriver.py\u001b[0m in \u001b[0;36mfind_element_by_xpath\u001b[1;34m(self, xpath)\u001b[0m\n\u001b[0;32m    512\u001b[0m             \u001b[0mstacklevel\u001b[0m\u001b[1;33m=\u001b[0m\u001b[1;36m2\u001b[0m\u001b[1;33m,\u001b[0m\u001b[1;33m\u001b[0m\u001b[1;33m\u001b[0m\u001b[0m\n\u001b[0;32m    513\u001b[0m         )\n\u001b[1;32m--> 514\u001b[1;33m         \u001b[1;32mreturn\u001b[0m \u001b[0mself\u001b[0m\u001b[1;33m.\u001b[0m\u001b[0mfind_element\u001b[0m\u001b[1;33m(\u001b[0m\u001b[0mby\u001b[0m\u001b[1;33m=\u001b[0m\u001b[0mBy\u001b[0m\u001b[1;33m.\u001b[0m\u001b[0mXPATH\u001b[0m\u001b[1;33m,\u001b[0m \u001b[0mvalue\u001b[0m\u001b[1;33m=\u001b[0m\u001b[0mxpath\u001b[0m\u001b[1;33m)\u001b[0m\u001b[1;33m\u001b[0m\u001b[1;33m\u001b[0m\u001b[0m\n\u001b[0m\u001b[0;32m    515\u001b[0m \u001b[1;33m\u001b[0m\u001b[0m\n\u001b[0;32m    516\u001b[0m     \u001b[1;32mdef\u001b[0m \u001b[0mfind_elements_by_xpath\u001b[0m\u001b[1;33m(\u001b[0m\u001b[0mself\u001b[0m\u001b[1;33m,\u001b[0m \u001b[0mxpath\u001b[0m\u001b[1;33m)\u001b[0m \u001b[1;33m->\u001b[0m \u001b[0mWebElement\u001b[0m\u001b[1;33m:\u001b[0m\u001b[1;33m\u001b[0m\u001b[1;33m\u001b[0m\u001b[0m\n",
      "\u001b[1;32mc:\\users\\ab\\appdata\\local\\programs\\python\\python38\\lib\\site-packages\\selenium\\webdriver\\remote\\webdriver.py\u001b[0m in \u001b[0;36mfind_element\u001b[1;34m(self, by, value)\u001b[0m\n\u001b[0;32m   1236\u001b[0m             \u001b[0mvalue\u001b[0m \u001b[1;33m=\u001b[0m \u001b[1;34m'[name=\"%s\"]'\u001b[0m \u001b[1;33m%\u001b[0m \u001b[0mvalue\u001b[0m\u001b[1;33m\u001b[0m\u001b[1;33m\u001b[0m\u001b[0m\n\u001b[0;32m   1237\u001b[0m \u001b[1;33m\u001b[0m\u001b[0m\n\u001b[1;32m-> 1238\u001b[1;33m         return self.execute(Command.FIND_ELEMENT, {\n\u001b[0m\u001b[0;32m   1239\u001b[0m             \u001b[1;34m'using'\u001b[0m\u001b[1;33m:\u001b[0m \u001b[0mby\u001b[0m\u001b[1;33m,\u001b[0m\u001b[1;33m\u001b[0m\u001b[1;33m\u001b[0m\u001b[0m\n\u001b[0;32m   1240\u001b[0m             'value': value})['value']\n",
      "\u001b[1;32mc:\\users\\ab\\appdata\\local\\programs\\python\\python38\\lib\\site-packages\\selenium\\webdriver\\remote\\webdriver.py\u001b[0m in \u001b[0;36mexecute\u001b[1;34m(self, driver_command, params)\u001b[0m\n\u001b[0;32m    416\u001b[0m         \u001b[0mresponse\u001b[0m \u001b[1;33m=\u001b[0m \u001b[0mself\u001b[0m\u001b[1;33m.\u001b[0m\u001b[0mcommand_executor\u001b[0m\u001b[1;33m.\u001b[0m\u001b[0mexecute\u001b[0m\u001b[1;33m(\u001b[0m\u001b[0mdriver_command\u001b[0m\u001b[1;33m,\u001b[0m \u001b[0mparams\u001b[0m\u001b[1;33m)\u001b[0m\u001b[1;33m\u001b[0m\u001b[1;33m\u001b[0m\u001b[0m\n\u001b[0;32m    417\u001b[0m         \u001b[1;32mif\u001b[0m \u001b[0mresponse\u001b[0m\u001b[1;33m:\u001b[0m\u001b[1;33m\u001b[0m\u001b[1;33m\u001b[0m\u001b[0m\n\u001b[1;32m--> 418\u001b[1;33m             \u001b[0mself\u001b[0m\u001b[1;33m.\u001b[0m\u001b[0merror_handler\u001b[0m\u001b[1;33m.\u001b[0m\u001b[0mcheck_response\u001b[0m\u001b[1;33m(\u001b[0m\u001b[0mresponse\u001b[0m\u001b[1;33m)\u001b[0m\u001b[1;33m\u001b[0m\u001b[1;33m\u001b[0m\u001b[0m\n\u001b[0m\u001b[0;32m    419\u001b[0m             response['value'] = self._unwrap_value(\n\u001b[0;32m    420\u001b[0m                 response.get('value', None))\n",
      "\u001b[1;32mc:\\users\\ab\\appdata\\local\\programs\\python\\python38\\lib\\site-packages\\selenium\\webdriver\\remote\\errorhandler.py\u001b[0m in \u001b[0;36mcheck_response\u001b[1;34m(self, response)\u001b[0m\n\u001b[0;32m    241\u001b[0m                 \u001b[0malert_text\u001b[0m \u001b[1;33m=\u001b[0m \u001b[0mvalue\u001b[0m\u001b[1;33m[\u001b[0m\u001b[1;34m'alert'\u001b[0m\u001b[1;33m]\u001b[0m\u001b[1;33m.\u001b[0m\u001b[0mget\u001b[0m\u001b[1;33m(\u001b[0m\u001b[1;34m'text'\u001b[0m\u001b[1;33m)\u001b[0m\u001b[1;33m\u001b[0m\u001b[1;33m\u001b[0m\u001b[0m\n\u001b[0;32m    242\u001b[0m             \u001b[1;32mraise\u001b[0m \u001b[0mexception_class\u001b[0m\u001b[1;33m(\u001b[0m\u001b[0mmessage\u001b[0m\u001b[1;33m,\u001b[0m \u001b[0mscreen\u001b[0m\u001b[1;33m,\u001b[0m \u001b[0mstacktrace\u001b[0m\u001b[1;33m,\u001b[0m \u001b[0malert_text\u001b[0m\u001b[1;33m)\u001b[0m  \u001b[1;31m# type: ignore[call-arg]  # mypy is not smart enough here\u001b[0m\u001b[1;33m\u001b[0m\u001b[1;33m\u001b[0m\u001b[0m\n\u001b[1;32m--> 243\u001b[1;33m         \u001b[1;32mraise\u001b[0m \u001b[0mexception_class\u001b[0m\u001b[1;33m(\u001b[0m\u001b[0mmessage\u001b[0m\u001b[1;33m,\u001b[0m \u001b[0mscreen\u001b[0m\u001b[1;33m,\u001b[0m \u001b[0mstacktrace\u001b[0m\u001b[1;33m)\u001b[0m\u001b[1;33m\u001b[0m\u001b[1;33m\u001b[0m\u001b[0m\n\u001b[0m\u001b[0;32m    244\u001b[0m \u001b[1;33m\u001b[0m\u001b[0m\n\u001b[0;32m    245\u001b[0m     \u001b[1;32mdef\u001b[0m \u001b[0m_value_or_default\u001b[0m\u001b[1;33m(\u001b[0m\u001b[0mself\u001b[0m\u001b[1;33m,\u001b[0m \u001b[0mobj\u001b[0m\u001b[1;33m:\u001b[0m \u001b[0mMapping\u001b[0m\u001b[1;33m[\u001b[0m\u001b[0m_KT\u001b[0m\u001b[1;33m,\u001b[0m \u001b[0m_VT\u001b[0m\u001b[1;33m]\u001b[0m\u001b[1;33m,\u001b[0m \u001b[0mkey\u001b[0m\u001b[1;33m:\u001b[0m \u001b[0m_KT\u001b[0m\u001b[1;33m,\u001b[0m \u001b[0mdefault\u001b[0m\u001b[1;33m:\u001b[0m \u001b[0m_VT\u001b[0m\u001b[1;33m)\u001b[0m \u001b[1;33m->\u001b[0m \u001b[0m_VT\u001b[0m\u001b[1;33m:\u001b[0m\u001b[1;33m\u001b[0m\u001b[1;33m\u001b[0m\u001b[0m\n",
      "\u001b[1;31mNoSuchElementException\u001b[0m: Message: no such element: Unable to locate element: {\"method\":\"xpath\",\"selector\":\"/html/body/form/div/input[1]\"}\n  (Session info: chrome=95.0.4638.69)\nStacktrace:\nBacktrace:\n\tOrdinal0 [0x00BC06F3+2492147]\n\tOrdinal0 [0x00B59BD1+2071505]\n\tOrdinal0 [0x00A62478+1057912]\n\tOrdinal0 [0x00A8C964+1231204]\n\tOrdinal0 [0x00AB6B62+1403746]\n\tOrdinal0 [0x00AA57FA+1333242]\n\tOrdinal0 [0x00AB4F38+1396536]\n\tOrdinal0 [0x00AA568B+1332875]\n\tOrdinal0 [0x00A821D4+1188308]\n\tOrdinal0 [0x00A8302F+1191983]\n\tGetHandleVerifier [0x00D467A6+1545030]\n\tGetHandleVerifier [0x00DF105C+2243580]\n\tGetHandleVerifier [0x00C4BC97+518199]\n\tGetHandleVerifier [0x00C4AD80+514336]\n\tOrdinal0 [0x00B5ED2D+2092333]\n\tOrdinal0 [0x00B62EE8+2109160]\n\tOrdinal0 [0x00B63022+2109474]\n\tOrdinal0 [0x00B6CB71+2149233]\n\tBaseThreadInitThunk [0x755CFA29+25]\n\tRtlGetAppContainerNamedObjectPath [0x77677A9E+286]\n\tRtlGetAppContainerNamedObjectPath [0x77677A6E+238]\n"
     ]
    }
   ],
   "source": [
    "brave_options = webdriver.ChromeOptions()\n",
    "brave_options.binary_location = 'C:\\\\Program Files\\\\BraveSoftware\\\\Brave-Browser\\\\Application\\\\brave.exe'\n",
    "driver_path = 'C:\\\\Users\\\\AB\\\\Downloads\\\\chromedriver_win32\\\\chromedriver.exe'\n",
    "drvr = webdriver.Chrome(options = brave_options, executable_path = driver_path)\n",
    "drvr.get(\"https://www.javatpoint.com/oprweb/test.jsp?filename=html-login-form\")\n",
    "name = drvr.find_element_by_xpath('/html/body/form/div/input[1]').text\n",
    "passs = drvr.find_element_by_xpath('/html/body/form/div/input[2]').text\n",
    "print(\"The username is:\", name)\n",
    "print(\"the password is:\", passs)\n",
    "drvr.close()"
   ]
  },
  {
   "cell_type": "markdown",
   "metadata": {},
   "source": [
    "# CodeChef login form"
   ]
  },
  {
   "cell_type": "code",
   "execution_count": 12,
   "metadata": {},
   "outputs": [
    {
     "name": "stderr",
     "output_type": "stream",
     "text": [
      "<ipython-input-12-a281afecb4e7>:4: DeprecationWarning: executable_path has been deprecated, please pass in a Service object\n",
      "  drvr = webdriver.Chrome(options = brave_options, executable_path = driver_path)\n",
      "<ipython-input-12-a281afecb4e7>:6: DeprecationWarning: find_element_by_* commands are deprecated. Please use find_element() instead\n",
      "  name = drvr.find_element_by_xpath('//*[@id=\"edit-name\"]').text\n",
      "<ipython-input-12-a281afecb4e7>:7: DeprecationWarning: find_element_by_* commands are deprecated. Please use find_element() instead\n",
      "  passs = drvr.find_element_by_xpath('//*[@id=\"edit-pass\"]').text\n"
     ]
    },
    {
     "name": "stdout",
     "output_type": "stream",
     "text": [
      "The username is: \n",
      "the password is: \n"
     ]
    }
   ],
   "source": [
    "brave_options = webdriver.ChromeOptions()\n",
    "brave_options.binary_location = 'C:\\\\Program Files\\\\BraveSoftware\\\\Brave-Browser\\\\Application\\\\brave.exe'\n",
    "driver_path = 'C:\\\\Users\\\\AB\\\\Downloads\\\\chromedriver_win32\\\\chromedriver.exe'\n",
    "drvr = webdriver.Chrome(options = brave_options, executable_path = driver_path)\n",
    "drvr.get(\"https://www.codechef.com/problems/school/%3Fitm_medium%3Dnavmenu%2526itm_campaign%3Dproblems#\")\n",
    "name = drvr.find_element_by_xpath('//*[@id=\"edit-name\"]').text\n",
    "passs = drvr.find_element_by_xpath('//*[@id=\"edit-pass\"]').text\n",
    "print(\"The username is:\", name)\n",
    "print(\"the password is:\", passs)\n",
    "drvr.close()"
   ]
  },
  {
   "cell_type": "code",
   "execution_count": null,
   "metadata": {},
   "outputs": [],
   "source": []
  },
  {
   "cell_type": "markdown",
   "metadata": {},
   "source": [
    "Chrome Browser"
   ]
  },
  {
   "cell_type": "code",
   "execution_count": 13,
   "metadata": {},
   "outputs": [],
   "source": [
    "# Import the require packages\n",
    "import time\n",
    "import csv"
   ]
  },
  {
   "cell_type": "code",
   "execution_count": null,
   "metadata": {},
   "outputs": [],
   "source": [
    "\n",
    "# Initialize the column names list\n",
    "col = ['Name','Price','Date','Parked_At']\n",
    "\n",
    "# Write the column name list in the csv file\n",
    "with open('Domain.csv', 'w') as csvFile:\n",
    "        writer = csv.writer(csvFile)\n",
    "        writer.writerow(col)\n",
    "\n",
    "chrome_options = webdriver.ChromeOptions()\n",
    "#chrome_options.add_argument(\"--headless\")\n",
    "chrome_options.add_argument(\"--disable-extensions\")\n",
    "chrome_options.add_argument(\"--disable-gpu\")\n",
    "chrome_options.add_argument(\"--no-sandbox\")\n",
    "\n",
    "# Initialize the browser object\n",
    "driver = webdriver.Chrome('<Provide the path of chromedriver>', options=chrome_options)\n",
    "\n",
    "# URL to go to\n",
    "url = \"https://namebio.com/\"\n",
    "# Maximize the browser window\n",
    "driver.maximize_window()\n",
    "# Opens the URL in the browser\n",
    "driver.get(url)\n",
    "\n",
    "# Counter to traverse through the 10 tables\n",
    "i = 0\n",
    "\n",
    "while i < 10:\n",
    "\n",
    "  #  Get all elements with the table row tag using the xpath method\n",
    "  trs = driver.find_elements_by_xpath('//*[@id=\"search-results\"]/tbody/tr')\n",
    "\n",
    "  # Traverse through the rows\n",
    "  for tr in trs:\n",
    "\n",
    "    # Split each row to get four values\n",
    "    tr = str(tr.text).split(' ')\n",
    "    del tr[2:3]\n",
    "\n",
    "    # Write the list of values to the csv file\n",
    "    with open('Domain.csv', 'a') as csvFile:\n",
    "        writer = csv.writer(csvFile)\n",
    "        writer.writerow(tr)\n",
    "\n",
    "    # Close the csv file\n",
    "    csvFile.close()\n",
    "  \n",
    "  # When all rows are read then click the next arrow button to move to next table\n",
    "  driver.find_element_by_xpath('//*[@id=\"search-results_next\"]/a').click()\n",
    "\n",
    "  # Give a 2 sec delay for the table to get loaded\n",
    "  time.sleep(2)\n",
    "\n",
    "  # Increment the counter\n",
    "  i+=1\n",
    "\n",
    "# Close the browser\n",
    "driver.close()"
   ]
  },
  {
   "cell_type": "code",
   "execution_count": null,
   "metadata": {},
   "outputs": [],
   "source": []
  },
  {
   "cell_type": "markdown",
   "metadata": {},
   "source": [
    "Brave Browser"
   ]
  },
  {
   "cell_type": "code",
   "execution_count": 24,
   "metadata": {},
   "outputs": [
    {
     "name": "stderr",
     "output_type": "stream",
     "text": [
      "<ipython-input-24-50e73e810d03>:14: DeprecationWarning: executable_path has been deprecated, please pass in a Service object\n",
      "  driver = webdriver.Chrome('C:\\\\Users\\\\AB\\\\Downloads\\\\chromedriver_win32\\\\chromedriver.exe', options=brave_options)\n",
      "<ipython-input-24-50e73e810d03>:29: DeprecationWarning: find_elements_by_* commands are deprecated. Please use find_elements() instead\n",
      "  trs = driver.find_elements_by_xpath('//*[@id=\"search-results\"]/tbody/tr')\n",
      "<ipython-input-24-50e73e810d03>:48: DeprecationWarning: find_element_by_* commands are deprecated. Please use find_element() instead\n",
      "  driver.find_element_by_xpath('//*[@id=\"search-results_next\"]/a').click()\n"
     ]
    }
   ],
   "source": [
    "# Import the require packages\n",
    "\n",
    "# Initialize the column names list\n",
    "col = ['Name','Price','Date','Parked_At']\n",
    "\n",
    "# Write the column name list in the csv file\n",
    "with open('Domain.csv', 'w') as csvFile:\n",
    "        writer = csv.writer(csvFile)\n",
    "        writer.writerow(col)\n",
    "\n",
    "brave_options = webdriver.ChromeOptions()\n",
    "brave_options.binary_location = 'C:\\\\Program Files\\\\BraveSoftware\\\\Brave-Browser\\\\Application\\\\brave.exe'\n",
    "# Initialize the browser object\n",
    "driver = webdriver.Chrome('C:\\\\Users\\\\AB\\\\Downloads\\\\chromedriver_win32\\\\chromedriver.exe', options=brave_options)\n",
    "\n",
    "# URL to go to\n",
    "url = \"https://namebio.com/\"\n",
    "# Maximize the browser window\n",
    "driver.maximize_window()\n",
    "# Opens the URL in the browser\n",
    "driver.get(url)\n",
    "\n",
    "# Counter to traverse through the 10 tables\n",
    "i = 0\n",
    "\n",
    "while i < 10:\n",
    "\n",
    "  #  Get all elements with the table row tag using the xpath method\n",
    "  trs = driver.find_elements_by_xpath('//*[@id=\"search-results\"]/tbody/tr')\n",
    "\n",
    "  # Traverse through the rows\n",
    "  for tr in trs:\n",
    "\n",
    "    # Split each row to get four values\n",
    "    tr = str(tr.text).split(' ')\n",
    "#    tr[2:3]\n",
    "#    print(tr)\n",
    "\n",
    "    # Write the list of values to the csv file\n",
    "    with open('Domain.csv', 'a') as csvFile:\n",
    "        writer = csv.writer(csvFile)\n",
    "        writer.writerow(tr)\n",
    "\n",
    "    # Close the csv file\n",
    "    csvFile.close()\n",
    "  \n",
    "  # When all rows are read then click the next arrow button to move to next table\n",
    "  driver.find_element_by_xpath('//*[@id=\"search-results_next\"]/a').click()\n",
    "\n",
    "  # Give a 2 sec delay for the table to get loaded\n",
    "  time.sleep(2)\n",
    "\n",
    "  # Increment the counter\n",
    "  i+=1\n",
    "\n",
    "# Close the browser\n",
    "driver.close()"
   ]
  },
  {
   "cell_type": "code",
   "execution_count": null,
   "metadata": {},
   "outputs": [],
   "source": []
  },
  {
   "cell_type": "markdown",
   "metadata": {},
   "source": [
    "Domain and Price"
   ]
  },
  {
   "cell_type": "code",
   "execution_count": 18,
   "metadata": {},
   "outputs": [
    {
     "name": "stderr",
     "output_type": "stream",
     "text": [
      "<ipython-input-18-da789a706a41>:14: DeprecationWarning: executable_path has been deprecated, please pass in a Service object\n",
      "  driver = webdriver.Chrome('C:\\\\Users\\\\AB\\\\Downloads\\\\chromedriver_win32\\\\chromedriver.exe', options=brave_options)\n",
      "<ipython-input-18-da789a706a41>:29: DeprecationWarning: find_elements_by_* commands are deprecated. Please use find_elements() instead\n",
      "  trs = driver.find_elements_by_xpath('//*[@id=\"search-results\"]/tbody/tr')\n",
      "<ipython-input-18-da789a706a41>:48: DeprecationWarning: find_element_by_* commands are deprecated. Please use find_element() instead\n",
      "  driver.find_element_by_xpath('//*[@id=\"search-results_next\"]/a').click()\n"
     ]
    }
   ],
   "source": [
    "# Import the require packages\n",
    "\n",
    "# Initialize the column names list\n",
    "col = ['Name','Price','Date','Parked_At']\n",
    "\n",
    "# Write the column name list in the csv file\n",
    "with open('Domain_price.csv', 'w') as csvFile:\n",
    "        writer = csv.writer(csvFile)\n",
    "        writer.writerow(col)\n",
    "\n",
    "brave_options = webdriver.ChromeOptions()\n",
    "brave_options.binary_location = 'C:\\\\Program Files\\\\BraveSoftware\\\\Brave-Browser\\\\Application\\\\brave.exe'\n",
    "# Initialize the browser object\n",
    "driver = webdriver.Chrome('C:\\\\Users\\\\AB\\\\Downloads\\\\chromedriver_win32\\\\chromedriver.exe', options=brave_options)\n",
    "\n",
    "# URL to go to\n",
    "url = \"https://namebio.com/\"\n",
    "# Maximize the browser window\n",
    "driver.maximize_window()\n",
    "# Opens the URL in the browser\n",
    "driver.get(url)\n",
    "\n",
    "# Counter to traverse through the 10 tables\n",
    "i = 0\n",
    "\n",
    "while i < 10:\n",
    "\n",
    "  #  Get all elements with the table row tag using the xpath method\n",
    "  trs = driver.find_elements_by_xpath('//*[@id=\"search-results\"]/tbody/tr')\n",
    "\n",
    "  # Traverse through the rows\n",
    "  for tr in trs:\n",
    "\n",
    "    # Split each row to get four values\n",
    "    tr = str(tr.text).split(' ')\n",
    "    tr = tr[0:2]\n",
    "#    print(tr)\n",
    "\n",
    "    # Write the list of values to the csv file\n",
    "    with open('Domain_price.csv', 'a') as csvFile:\n",
    "        writer = csv.writer(csvFile)\n",
    "        writer.writerow(tr)\n",
    "\n",
    "    # Close the csv file\n",
    "    csvFile.close()\n",
    "  \n",
    "  # When all rows are read then click the next arrow button to move to next table\n",
    "  driver.find_element_by_xpath('//*[@id=\"search-results_next\"]/a').click()\n",
    "\n",
    "  # Give a 2 sec delay for the table to get loaded\n",
    "  time.sleep(2)\n",
    "\n",
    "  # Increment the counter\n",
    "  i+=1\n",
    "\n",
    "# Close the browser\n",
    "driver.close()"
   ]
  },
  {
   "cell_type": "code",
   "execution_count": null,
   "metadata": {},
   "outputs": [],
   "source": []
  },
  {
   "cell_type": "markdown",
   "metadata": {},
   "source": [
    "Deleting USD"
   ]
  },
  {
   "cell_type": "code",
   "execution_count": 23,
   "metadata": {},
   "outputs": [
    {
     "name": "stderr",
     "output_type": "stream",
     "text": [
      "<ipython-input-23-01c36fe5ef3c>:14: DeprecationWarning: executable_path has been deprecated, please pass in a Service object\n",
      "  driver = webdriver.Chrome('C:\\\\Users\\\\AB\\\\Downloads\\\\chromedriver_win32\\\\chromedriver.exe', options=brave_options)\n",
      "<ipython-input-23-01c36fe5ef3c>:29: DeprecationWarning: find_elements_by_* commands are deprecated. Please use find_elements() instead\n",
      "  trs = driver.find_elements_by_xpath('//*[@id=\"search-results\"]/tbody/tr')\n",
      "<ipython-input-23-01c36fe5ef3c>:48: DeprecationWarning: find_element_by_* commands are deprecated. Please use find_element() instead\n",
      "  driver.find_element_by_xpath('//*[@id=\"search-results_next\"]/a').click()\n"
     ]
    }
   ],
   "source": [
    "# Import the require packages\n",
    "\n",
    "# Initialize the column names list\n",
    "col = ['Name','Price','Date','Parked_At']\n",
    "\n",
    "# Write the column name list in the csv file\n",
    "with open('Domainss.csv', 'w') as csvFile:\n",
    "        writer = csv.writer(csvFile)\n",
    "        writer.writerow(col)\n",
    "\n",
    "brave_options = webdriver.ChromeOptions()\n",
    "brave_options.binary_location = 'C:\\\\Program Files\\\\BraveSoftware\\\\Brave-Browser\\\\Application\\\\brave.exe'\n",
    "# Initialize the browser object\n",
    "driver = webdriver.Chrome('C:\\\\Users\\\\AB\\\\Downloads\\\\chromedriver_win32\\\\chromedriver.exe', options=brave_options)\n",
    "\n",
    "# URL to go to\n",
    "url = \"https://namebio.com/\"\n",
    "# Maximize the browser window\n",
    "driver.maximize_window()\n",
    "# Opens the URL in the browser\n",
    "driver.get(url)\n",
    "\n",
    "# Counter to traverse through the 10 tables\n",
    "i = 0\n",
    "\n",
    "while i < 10:\n",
    "\n",
    "  #  Get all elements with the table row tag using the xpath method\n",
    "  trs = driver.find_elements_by_xpath('//*[@id=\"search-results\"]/tbody/tr')\n",
    "\n",
    "  # Traverse through the rows\n",
    "  for tr in trs:\n",
    "\n",
    "    # Split each row to get four values\n",
    "    tr = str(tr.text).split(' ')\n",
    "    del tr[2:3]\n",
    "#    print(tr)\n",
    "\n",
    "    # Write the list of values to the csv file\n",
    "    with open('Domainss.csv', 'a') as csvFile:\n",
    "        writer = csv.writer(csvFile)\n",
    "        writer.writerow(tr)\n",
    "\n",
    "    # Close the csv file\n",
    "    csvFile.close()\n",
    "  \n",
    "  # When all rows are read then click the next arrow button to move to next table\n",
    "  driver.find_element_by_xpath('//*[@id=\"search-results_next\"]/a').click()\n",
    "\n",
    "  # Give a 2 sec delay for the table to get loaded\n",
    "  time.sleep(2)\n",
    "\n",
    "  # Increment the counter\n",
    "  i+=1\n",
    "\n",
    "# Close the browser\n",
    "driver.close()"
   ]
  },
  {
   "cell_type": "code",
   "execution_count": null,
   "metadata": {},
   "outputs": [],
   "source": []
  },
  {
   "cell_type": "code",
   "execution_count": null,
   "metadata": {},
   "outputs": [],
   "source": []
  }
 ],
 "metadata": {
  "kernelspec": {
   "display_name": "Python 3",
   "language": "python",
   "name": "python3"
  },
  "language_info": {
   "codemirror_mode": {
    "name": "ipython",
    "version": 3
   },
   "file_extension": ".py",
   "mimetype": "text/x-python",
   "name": "python",
   "nbconvert_exporter": "python",
   "pygments_lexer": "ipython3",
   "version": "3.8.5"
  }
 },
 "nbformat": 4,
 "nbformat_minor": 4
}
